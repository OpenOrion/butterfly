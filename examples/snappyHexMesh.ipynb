{
 "cells": [
  {
   "cell_type": "code",
   "execution_count": 123,
   "metadata": {},
   "outputs": [],
   "source": [
    "from butterfly.blockMeshDict import BlockMeshDict\n",
    "from butterfly.snappyHexMeshDict import SnappyHexMeshDict\n"
   ]
  },
  {
   "cell_type": "code",
   "execution_count": 124,
   "metadata": {},
   "outputs": [],
   "source": [
    "# [ ] Create snappyHexMeshDict file from annotation\n",
    "# [ ] Convert result from OpenFOAM to SU2 format\n",
    "# [ ] Run SU2 simulation\n",
    "# [ ] Run OpenFoam simulation later as well\n",
    "\n",
    "out_dir = \"/workspaces/butterfly/examples/out\""
   ]
  },
  {
   "cell_type": "code",
   "execution_count": 152,
   "metadata": {},
   "outputs": [
    {
     "data": {
      "text/plain": [
       "True"
      ]
     },
     "execution_count": 152,
     "metadata": {},
     "output_type": "execute_result"
    }
   ],
   "source": [
    "import cadquery as cq\n",
    "\n",
    "subject_profile = cq.importers.importStep(f\"{out_dir}/CNCRD.STEP\").rotate((0, 0, 0), (0, 0, 1), 180).rotate((0, 0, 0), (1, 0, 0), -90)\n",
    "\n",
    "subject_solid = subject_profile.val()\n",
    "subject_bbox = subject_solid.BoundingBox()\n",
    "\n",
    "# cq.exporters.export(subject_profile, f\"{out_dir}/aircraft.stl\")\n",
    "cq.Shape.exportStl(subject_profile.val(), f\"{out_dir}/constant/geometry/aircraft.stl\", ascii=True)\n",
    "# cq.exporters.export(wind_tunnel_profile, f\"{out_dir}/wind_tunnel.stl\")\n"
   ]
  },
  {
   "cell_type": "code",
   "execution_count": 153,
   "metadata": {},
   "outputs": [
    {
     "name": "stdout",
     "output_type": "stream",
     "text": [
      "(-118.1544649081838, -38.101175904444545, -12.41767296521679)\n",
      "(4.948264830918582, 38.098824695555294, 34.86939031518263)\n",
      "Vector: (-38.13769057776725, -0.0011756044446253617, 30.140683987142687)\n"
     ]
    }
   ],
   "source": [
    "subject_center = subject_solid.Center()\n",
    "\n",
    "wind_tunnel_size = (subject_bbox.xlen*8, subject_bbox.ylen*15, subject_bbox.zlen*30)\n",
    "\n",
    "\n",
    "refinement_size = (subject_bbox.xlen*2, subject_bbox.ylen*3, subject_bbox.zlen*5)\n",
    "\n",
    "\n",
    "# wind_tunnel_profile = (\n",
    "#     cq.Workplane(\"XY\", origin=[subject_center.x-wind_tunnel_size[0]*0.2, subject_center.y, subject_center.z])\n",
    "#     .box(*wind_tunnel_size)    \n",
    "# )\n",
    "\n",
    "\n",
    "refinement_box_profile = (\n",
    "    cq.Workplane(\"XY\", origin=[subject_center.x-refinement_size[0]*0.15, subject_center.y, subject_center.z])\n",
    "    .box(*refinement_size)\n",
    ")\n",
    "\n",
    "refinement_bbox = refinement_box_profile.val().BoundingBox()\n",
    "refinement_min = (refinement_bbox.xmin, refinement_bbox.ymin, refinement_bbox.zmin)\n",
    "refinement_max = (refinement_bbox.xmax, refinement_bbox.ymax, refinement_bbox.zmax)\n",
    "\n",
    "print(refinement_min)\n",
    "print(refinement_max)\n",
    "print(subject_center + cq.Vector(0, 0, subject_bbox.zlen*2))"
   ]
  },
  {
   "cell_type": "code",
   "execution_count": 149,
   "metadata": {},
   "outputs": [
    {
     "name": "stdout",
     "output_type": "stream",
     "text": [
      "100% ⋮————————————————————————————————————————————————————————————⋮ (2/2)  0.01s\n"
     ]
    },
    {
     "data": {
      "application/vnd.jupyter.widget-view+json": {
       "model_id": "4eebebb840cc4ca6b1d407c34c12d4e3",
       "version_major": 2,
       "version_minor": 0
      },
      "text/plain": [
       "CadViewerWidget(anchor=None, cad_width=800, glass=False, height=600, pinning=False, theme='light', title=None,…"
      ]
     },
     "metadata": {},
     "output_type": "display_data"
    },
    {
     "data": {
      "text/html": [
       "<div></div>"
      ],
      "text/plain": [
       "<IPython.core.display.HTML object>"
      ]
     },
     "metadata": {},
     "output_type": "display_data"
    },
    {
     "data": {
      "text/plain": [
       "<cad_viewer_widget.widget.CadViewer at 0xfffefc210f20>"
      ]
     },
     "execution_count": 149,
     "metadata": {},
     "output_type": "execute_result"
    }
   ],
   "source": [
    "from jupyter_cadquery import show\n",
    "\n",
    "show(subject_profile, refinement_box_profile)"
   ]
  },
  {
   "cell_type": "code",
   "execution_count": 110,
   "metadata": {},
   "outputs": [],
   "source": [
    "# from jupyter_cadquery import show\n",
    "\n",
    "inlet_faces = wind_tunnel_profile.faces(\">X\").vals()\n",
    "outlet_faces = wind_tunnel_profile.faces(\"<X\").vals()\n",
    "side_faces = wind_tunnel_profile.faces(\"<Y or >Y\").vals()\n",
    "top_faces = wind_tunnel_profile.faces(\">Z\").vals()\n",
    "bottom_faces = wind_tunnel_profile.faces(\"<Z\").vals()\n",
    "\n",
    "# show(wind_tunnel_profile.faces(\">Z\"))"
   ]
  },
  {
   "cell_type": "code",
   "execution_count": 120,
   "metadata": {},
   "outputs": [],
   "source": [
    "import numpy as np\n",
    "from butterfly.boundarycondition import BoundaryCondition, FixedInletBoundaryCondition, FixedOutletBoundaryCondition, WindTunnelGroundBoundaryCondition, WindTunnelInletBoundaryCondition, WindTunnelOutletBoundaryCondition, WindTunnelTopAndSidesBoundaryCondition, WindTunnelWallBoundaryCondition\n",
    "from butterfly.conditions import ABLConditions\n",
    "from butterfly.geometry import BFBlockGeometry, BFGeometry, bf_geometry_from_stl_file\n",
    "from butterfly.windtunnel import WindTunnel\n",
    "\n",
    "\n",
    "abc = ABLConditions()\n",
    "\n",
    "def get_geo(label: str, face: cq.Face, bc: BoundaryCondition):\n",
    "    cq_vertices, cq_indices = face.tessellate(0.01)\n",
    "    vertices = np.array([v.toTuple() for v in cq_vertices])\n",
    "    indices = np.array(cq_indices)\n",
    "    border_vertices = [[v.toTuple() for v in face.Vertices()]]\n",
    "    return BFBlockGeometry(label, vertices.tolist(), indices.tolist(), border_vertices, bc)\n",
    "\n",
    "\n",
    "\n",
    "def get_tri_normal(tri_vertices: np.ndarray):\n",
    "    # Calculate two vectors along the edges of the triangle\n",
    "    normal = np.cross(\n",
    "        tri_vertices[1] - tri_vertices[0], tri_vertices[2] - tri_vertices[0]\n",
    "    )\n",
    "    unit_normal = normal / np.linalg.norm(normal, axis=0, keepdims=True)\n",
    "    return unit_normal\n",
    "\n",
    "\n",
    "def get_test_geo(name: str, solid: cq.Solid):\n",
    "    cq_vertices, cq_indices = solid.tessellate(0.01)\n",
    "\n",
    "    tri_vertices = np.array([v.toTuple() for v in cq_vertices])\n",
    "    tri_indices = np.array(cq_indices)\n",
    "    tri_normals = np.array([get_tri_normal(tri_vertices[tri]) for tri in tri_indices])\n",
    "    return BFGeometry(name, tri_vertices.tolist(), tri_indices.tolist(), tri_normals.tolist())\n",
    "\n",
    "inlet_bc = WindTunnelInletBoundaryCondition(abc)\n",
    "inlet_geo = get_geo(\"inlet\", inlet_faces[0], inlet_bc)\n",
    "\n",
    "\n",
    "outlet_bc = WindTunnelOutletBoundaryCondition()\n",
    "outlet_geo = get_geo(\"outlet\", outlet_faces[0], outlet_bc)\n",
    "\n",
    "sides_bc = WindTunnelTopAndSidesBoundaryCondition()\n",
    "side_geos = [\n",
    "    get_geo(\"left\", side_faces[0], sides_bc),\n",
    "    get_geo(\"right\", side_faces[1], sides_bc),\n",
    "]\n",
    "\n",
    "top_bc = WindTunnelTopAndSidesBoundaryCondition()\n",
    "top_geo = get_geo(\"top\", top_faces[0], top_bc)\n",
    "\n",
    "\n",
    "bottom_bc = WindTunnelGroundBoundaryCondition(abc)\n",
    "bottom_geo = get_geo(\"bottom\", bottom_faces[0], bottom_bc)\n",
    "\n",
    "\n",
    "test_geos = [\n",
    "    # get_test_geo(\"plane\", subject_solid)\n",
    "]\n",
    "bounding_geometries = [inlet_geo, outlet_geo, *side_geos, top_geo, bottom_geo]\n",
    "\n",
    "wind_tunnel = WindTunnel(\"wind_tunnel\", inlet_geo, outlet_geo, side_geos, top_geo, bottom_geo, test_geos, roughness=0.005)\n",
    "wind_tunnel.blockMeshDict.n_div_xyz = (int(0.06*wind_tunnel_size[0]), int(0.15*wind_tunnel_size[1]), int(0.15*wind_tunnel_size[2]))\n",
    "\n",
    "\n",
    "# (50, 30, 15)\n",
    "\n",
    "\n"
   ]
  },
  {
   "cell_type": "code",
   "execution_count": 72,
   "metadata": {},
   "outputs": [],
   "source": [
    "blockMeshDict = BlockMeshDict.from_bf_block_geometries(bounding_geometries)"
   ]
  },
  {
   "cell_type": "code",
   "execution_count": 121,
   "metadata": {},
   "outputs": [],
   "source": [
    "# with open(f\"{out_dir}/blockMeshDict\", \"w\") as f:\n",
    "#     f.write(wind_tunnel.blockMeshDict.to_openfoam())\n",
    "case = wind_tunnel.to_openfoam_case()"
   ]
  },
  {
   "cell_type": "code",
   "execution_count": 122,
   "metadata": {},
   "outputs": [],
   "source": [
    "from pathlib import Path\n",
    "for file in case.foam_files:\n",
    "    case_dir = Path(f\"{out_dir}/{file.location.replace('\"', \"\")}\")\n",
    "    case_dir.mkdir(parents=True, exist_ok=True)\n",
    "    with open(f\"{case_dir}/{file.name}\", \"w\") as f:\n",
    "        f.write(str(file))"
   ]
  },
  {
   "cell_type": "code",
   "execution_count": 2,
   "metadata": {},
   "outputs": [],
   "source": [
    "snappyHexMesh = SnappyHexMeshDict(\n",
    "    {\n",
    "        \"castellatedMeshControls\": {\n",
    "            \"nCellsBetweenLevels\": 3,  # \"5-10 at least\", 3 is at the lower end\n",
    "            # \"refinementSurfaces\": {\n",
    "            #     \"motorBike\": {\n",
    "            #         \"level\": (6, 8),  # \"refined 6-8\", matches the comment, assumed non-default\n",
    "            #     }\n",
    "            # },\n",
    "            # amount of refinement based on cell angles (30, 45)\n",
    "            \"resolveFeatureAngle\": 180,  # Default not specified, likely non-default\n",
    "            # \"refinementRegions\": {\n",
    "            #     \"refinementBox\": {\n",
    "            #         \"mode\": \"inside\",  # Mode specified, assumed non-default\n",
    "            #         \"level\": 5,  # Level specified, assumed non-default\n",
    "            #     }\n",
    "            # },\n",
    "            # external then use surface projection, if interanl (pipe) use interior point (com)\n",
    "\n",
    "            \"locationInMesh\": (0, 0, 0),  # No default mentioned, assumed non-default\n",
    "            \"allowFreeStandingZoneFaces\": True,  # Default not specified, likely non-default\n",
    "        },\n",
    "        \"snapControls\": {\n",
    "            \"tolerance\": 5,  # \"1~4 is typical\", 5 is above typical\n",
    "            \"nSolveIter\": 100,  # \"100 or 150 is sweet spot\", matches the comment\n",
    "            \"implicitFeatureSnap\": False,  # Default is false, matches the comment\n",
    "            \"explicitFeatureSnap\": True,  # Default is true, matches the comment\n",
    "        },\n",
    "        \"addLayersControls\": {\n",
    "            # \"relativeSizes\": True,  # Default not specified, likely non-default\n",
    "            # \"layers\": {\n",
    "            #     \"motorBike\": {\n",
    "            #         \"nSurfaceLayers\": 3,  # \"minimum 1 is expected\", assumed non-default\n",
    "            #     }\n",
    "            # },\n",
    "            \"expansionRatio\": 1.0,  # \"1.2~1.5\", 1.0 is below the typical range\n",
    "            \"minThickness\": 0.2,  # \"0.01~0.1\", 0.2 is above the range\n",
    "            \"featureAngle\": 110,  # \"130~170\", 110 is below the range\n",
    "        },\n",
    "        \"meshQualityControls\": {\n",
    "            \"maxNonOrtho\": 65,  # Default is 65, 60 is lower (better)\n",
    "            \"minTwist\": 0.05,  # Default is 0.05, 0.02 is stricter\n",
    "            \"minFaceWeight\": 0.05,  # Default is 0.05, 0.02 is stricter\n",
    "        },\n",
    "\n",
    "    }\n",
    ")\n",
    "\n"
   ]
  },
  {
   "cell_type": "code",
   "execution_count": 3,
   "metadata": {},
   "outputs": [],
   "source": [
    "out_dir = \"/workspaces/butterfly/examples/out\"\n",
    "with open(f\"{out_dir}/snappyHexMeshDict\", \"w\") as f:\n",
    "    f.write(snappyHexMesh.to_openfoam())"
   ]
  }
 ],
 "metadata": {
  "kernelspec": {
   "display_name": "base",
   "language": "python",
   "name": "python3"
  },
  "language_info": {
   "codemirror_mode": {
    "name": "ipython",
    "version": 3
   },
   "file_extension": ".py",
   "mimetype": "text/x-python",
   "name": "python",
   "nbconvert_exporter": "python",
   "pygments_lexer": "ipython3",
   "version": "3.12.2"
  }
 },
 "nbformat": 4,
 "nbformat_minor": 2
}
