{
 "cells": [
  {
   "cell_type": "code",
   "execution_count": 1,
   "metadata": {},
   "outputs": [
    {
     "name": "stderr",
     "output_type": "stream",
     "text": [
      "/workspaces/butterfly/butterfly/__init__.py:35: UserWarning: Failed to find the OpenFOAM installation. Set your installation flavor in confing.yml.\n",
      "  warnings.warn(\n",
      "/workspaces/butterfly/butterfly/parser.py:36: SyntaxWarning: invalid escape sequence '\\*'\n",
      "  text = re.sub(re.compile('/\\*.*?\\*/', re.DOTALL), '', code)\n"
     ]
    }
   ],
   "source": [
    "from butterfly.blockMeshDict import BlockMeshDict\n",
    "from butterfly.snappyHexMeshDict import SnappyHexMeshDict\n"
   ]
  },
  {
   "cell_type": "code",
   "execution_count": 2,
   "metadata": {},
   "outputs": [],
   "source": [
    "# [ ] Create snappyHexMeshDict file from annotation\n",
    "# [ ] Convert result from OpenFOAM to SU2 format\n",
    "# [ ] Run SU2 simulation\n",
    "# [ ] Run OpenFoam simulation later as well\n",
    "\n",
    "out_dir = \"/workspaces/butterfly/examples/out\""
   ]
  },
  {
   "cell_type": "code",
   "execution_count": 4,
   "metadata": {},
   "outputs": [
    {
     "data": {
      "text/plain": [
       "False"
      ]
     },
     "execution_count": 4,
     "metadata": {},
     "output_type": "execute_result"
    }
   ],
   "source": [
    "import cadquery as cq\n",
    "\n",
    "subject_profile = cq.importers.importStep(f\"{out_dir}/CNCRD.STEP\").rotate((0, 0, 0), (0, 0, 1), 180).rotate((0, 0, 0), (1, 0, 0), -90)\n",
    "\n",
    "subject_solid = subject_profile.val()\n",
    "subject_bbox = subject_solid.BoundingBox()\n",
    "\n",
    "# cq.exporters.export(subject_profile, f\"{out_dir}/aircraft.stl\")\n",
    "cq.Shape.exportStl(subject_profile.val(), f\"{out_dir}/constant/geometry/aircraft.stl\", ascii=True)\n",
    "# cq.exporters.export(wind_tunnel_profile, f\"{out_dir}/wind_tunnel.stl\")\n"
   ]
  },
  {
   "cell_type": "code",
   "execution_count": 153,
   "metadata": {},
   "outputs": [
    {
     "name": "stdout",
     "output_type": "stream",
     "text": [
      "(-118.1544649081838, -38.101175904444545, -12.41767296521679)\n",
      "(4.948264830918582, 38.098824695555294, 34.86939031518263)\n",
      "Vector: (-38.13769057776725, -0.0011756044446253617, 30.140683987142687)\n"
     ]
    }
   ],
   "source": [
    "subject_center = subject_solid.Center()\n",
    "\n",
    "wind_tunnel_size = (subject_bbox.xlen*8, subject_bbox.ylen*15, subject_bbox.zlen*30)\n",
    "\n",
    "\n",
    "refinement_size = (subject_bbox.xlen*2, subject_bbox.ylen*3, subject_bbox.zlen*5)\n",
    "\n",
    "\n",
    "wind_tunnel_profile = (\n",
    "    cq.Workplane(\"XY\", origin=[subject_center.x-wind_tunnel_size[0]*0.2, subject_center.y, subject_center.z])\n",
    "    .box(*wind_tunnel_size)    \n",
    ")\n",
    "\n",
    "\n",
    "refinement_box_profile = (\n",
    "    cq.Workplane(\"XY\", origin=[subject_center.x-refinement_size[0]*0.15, subject_center.y, subject_center.z])\n",
    "    .box(*refinement_size)\n",
    ")\n",
    "\n",
    "refinement_bbox = refinement_box_profile.val().BoundingBox()\n",
    "refinement_min = (refinement_bbox.xmin, refinement_bbox.ymin, refinement_bbox.zmin)\n",
    "refinement_max = (refinement_bbox.xmax, refinement_bbox.ymax, refinement_bbox.zmax)\n",
    "\n",
    "print(refinement_min)\n",
    "print(refinement_max)\n",
    "print(subject_center + cq.Vector(0, 0, subject_bbox.zlen*2))"
   ]
  },
  {
   "cell_type": "code",
   "execution_count": null,
   "metadata": {},
   "outputs": [],
   "source": [
    "snappyHexMesh = SnappyHexMeshDict({\n",
    "    \"castellatedMesh\": True,\n",
    "    \"snap\": True,\n",
    "    \"addLayers\": False,\n",
    "    \"geometry\": {\n",
    "        \"motorBike\": {\n",
    "            \"type\": \"triSurfaceMesh\",\n",
    "            \"file\": \"motorBike.obj\"\n",
    "        },\n",
    "        \"refinementBox\": {\n",
    "            \"type\": \"searchableBox\",\n",
    "            \"min\": (-1.0, -0.7, 0.0),\n",
    "            \"max\": (8.0, 0.7, 2.5)\n",
    "        }\n",
    "    },\n",
    "    \"castellatedMeshControls\": {\n",
    "        \"maxLocalCells\": 100000,\n",
    "        \"maxGlobalCells\": 7000000,\n",
    "        \"minRefinementCells\": 10,\n",
    "        \"maxLoadUnbalance\": 0.10,\n",
    "        \"nCellsBetweenLevels\": 3,\n",
    "        \"features\": [],\n",
    "        \"refinementSurfaces\": {\n",
    "            \"motorBike\": {\n",
    "                \"level\": (6, 8)\n",
    "            }\n",
    "        },\n",
    "        \"resolveFeatureAngle\": 60,\n",
    "        \"refinementRegions\": {\n",
    "            \"refinementBox\": {\n",
    "                \"mode\": \"inside\",\n",
    "                \"levels\": [(1E15, 5)]\n",
    "            }\n",
    "        },\n",
    "        \"locationInMesh\": (3, 3, 0.43),\n",
    "        \"allowFreeStandingZoneFaces\": False\n",
    "    },\n",
    "    \"snapControls\": {\n",
    "        \"nSmoothPatch\": 3,\n",
    "        \"tolerance\": 4.0,\n",
    "        \"nSolveIter\": 30,\n",
    "        \"nRelaxIter\": 5\n",
    "    },\n",
    "    \"addLayersControls\": {\n",
    "        \"relativeSizes\": True,\n",
    "        \"layers\": {\n",
    "            \"(lowerWall|motorBike).*\": {\n",
    "                \"nSurfaceLayers\": 1\n",
    "            }\n",
    "        },\n",
    "        \"expansionRatio\": 1.0,\n",
    "        \"finalLayerThickness\": 0.3,\n",
    "        \"minThickness\": 0.1,\n",
    "        \"nGrow\": 0,\n",
    "        \"featureAngle\": 60,\n",
    "        \"nRelaxIter\": 3,\n",
    "        \"nSmoothSurfaceNormals\": 1,\n",
    "        \"nSmoothNormals\": 3,\n",
    "        \"nSmoothThickness\": 2,\n",
    "        \"maxFaceThicknessRatio\": 0.5,\n",
    "        \"maxThicknessToMedialRatio\": 0.3,\n",
    "        \"minMedianAxisAngle\": 90,\n",
    "        \"nBufferCellsNoExtrude\": 0,\n",
    "        \"nLayerIter\": 50\n",
    "    },\n",
    "    \"meshQualityControls\": {\n",
    "        \"maxNonOrtho\": 65,\n",
    "        \"maxBoundarySkewness\": 20,\n",
    "        \"maxInternalSkewness\": 4,\n",
    "        \"maxConcave\": 80,\n",
    "        \"minFlatness\": 0.5,\n",
    "        \"minVol\": 1e-13,\n",
    "        \"minTetQuality\": 1e-30,\n",
    "        \"minArea\": -1,\n",
    "        \"minTwist\": 0.02,\n",
    "        \"minDeterminant\": 0.001,\n",
    "        \"minFaceWeight\": 0.02,\n",
    "        \"minVolRatio\": 0.01,\n",
    "        \"minTriangleTwist\": -1,\n",
    "        \"nSmoothScale\": 4,\n",
    "        \"errorReduction\": 0.75\n",
    "    },\n",
    "    \"mergeTolerance\": 1E-6\n",
    "}\n",
    ")\n",
    "\n"
   ]
  },
  {
   "cell_type": "code",
   "execution_count": 149,
   "metadata": {},
   "outputs": [
    {
     "name": "stdout",
     "output_type": "stream",
     "text": [
      "100% ⋮————————————————————————————————————————————————————————————⋮ (2/2)  0.01s\n"
     ]
    },
    {
     "data": {
      "application/vnd.jupyter.widget-view+json": {
       "model_id": "4eebebb840cc4ca6b1d407c34c12d4e3",
       "version_major": 2,
       "version_minor": 0
      },
      "text/plain": [
       "CadViewerWidget(anchor=None, cad_width=800, glass=False, height=600, pinning=False, theme='light', title=None,…"
      ]
     },
     "metadata": {},
     "output_type": "display_data"
    },
    {
     "data": {
      "text/html": [
       "<div></div>"
      ],
      "text/plain": [
       "<IPython.core.display.HTML object>"
      ]
     },
     "metadata": {},
     "output_type": "display_data"
    },
    {
     "data": {
      "text/plain": [
       "<cad_viewer_widget.widget.CadViewer at 0xfffefc210f20>"
      ]
     },
     "execution_count": 149,
     "metadata": {},
     "output_type": "execute_result"
    }
   ],
   "source": [
    "from jupyter_cadquery import show\n",
    "\n",
    "show(subject_profile, refinement_box_profile)"
   ]
  },
  {
   "cell_type": "code",
   "execution_count": 110,
   "metadata": {},
   "outputs": [],
   "source": [
    "# from jupyter_cadquery import show\n",
    "\n",
    "inlet_faces = wind_tunnel_profile.faces(\">X\").vals()\n",
    "outlet_faces = wind_tunnel_profile.faces(\"<X\").vals()\n",
    "side_faces = wind_tunnel_profile.faces(\"<Y or >Y\").vals()\n",
    "top_faces = wind_tunnel_profile.faces(\">Z\").vals()\n",
    "bottom_faces = wind_tunnel_profile.faces(\"<Z\").vals()\n",
    "\n",
    "# show(wind_tunnel_profile.faces(\">Z\"))"
   ]
  },
  {
   "cell_type": "code",
   "execution_count": 120,
   "metadata": {},
   "outputs": [],
   "source": [
    "import numpy as np\n",
    "from butterfly.boundarycondition import BoundaryCondition, FixedInletBoundaryCondition, FixedOutletBoundaryCondition, WindTunnelGroundBoundaryCondition, WindTunnelInletBoundaryCondition, WindTunnelOutletBoundaryCondition, WindTunnelTopAndSidesBoundaryCondition, WindTunnelWallBoundaryCondition\n",
    "from butterfly.conditions import ABLConditions\n",
    "from butterfly.geometry import BFBlockGeometry, BFGeometry, bf_geometry_from_stl_file\n",
    "from butterfly.windtunnel import WindTunnel\n",
    "\n",
    "\n",
    "abc = ABLConditions()\n",
    "\n",
    "def get_geo(label: str, face: cq.Face, bc: BoundaryCondition):\n",
    "    cq_vertices, cq_indices = face.tessellate(0.01)\n",
    "    vertices = np.array([v.toTuple() for v in cq_vertices])\n",
    "    indices = np.array(cq_indices)\n",
    "    border_vertices = [[v.toTuple() for v in face.Vertices()]]\n",
    "    return BFBlockGeometry(label, vertices.tolist(), indices.tolist(), border_vertices, bc)\n",
    "\n",
    "\n",
    "\n",
    "def get_tri_normal(tri_vertices: np.ndarray):\n",
    "    # Calculate two vectors along the edges of the triangle\n",
    "    normal = np.cross(\n",
    "        tri_vertices[1] - tri_vertices[0], tri_vertices[2] - tri_vertices[0]\n",
    "    )\n",
    "    unit_normal = normal / np.linalg.norm(normal, axis=0, keepdims=True)\n",
    "    return unit_normal\n",
    "\n",
    "\n",
    "def get_test_geo(name: str, solid: cq.Solid):\n",
    "    cq_vertices, cq_indices = solid.tessellate(0.01)\n",
    "\n",
    "    tri_vertices = np.array([v.toTuple() for v in cq_vertices])\n",
    "    tri_indices = np.array(cq_indices)\n",
    "    tri_normals = np.array([get_tri_normal(tri_vertices[tri]) for tri in tri_indices])\n",
    "    return BFGeometry(name, tri_vertices.tolist(), tri_indices.tolist(), tri_normals.tolist())\n",
    "\n",
    "inlet_bc = WindTunnelInletBoundaryCondition(abc)\n",
    "inlet_geo = get_geo(\"inlet\", inlet_faces[0], inlet_bc)\n",
    "\n",
    "\n",
    "outlet_bc = WindTunnelOutletBoundaryCondition()\n",
    "outlet_geo = get_geo(\"outlet\", outlet_faces[0], outlet_bc)\n",
    "\n",
    "sides_bc = WindTunnelTopAndSidesBoundaryCondition()\n",
    "side_geos = [\n",
    "    get_geo(\"left\", side_faces[0], sides_bc),\n",
    "    get_geo(\"right\", side_faces[1], sides_bc),\n",
    "]\n",
    "\n",
    "top_bc = WindTunnelTopAndSidesBoundaryCondition()\n",
    "top_geo = get_geo(\"top\", top_faces[0], top_bc)\n",
    "\n",
    "\n",
    "bottom_bc = WindTunnelGroundBoundaryCondition(abc)\n",
    "bottom_geo = get_geo(\"bottom\", bottom_faces[0], bottom_bc)\n",
    "\n",
    "\n",
    "test_geos = [\n",
    "    # get_test_geo(\"plane\", subject_solid)\n",
    "]\n",
    "bounding_geometries = [inlet_geo, outlet_geo, *side_geos, top_geo, bottom_geo]\n",
    "\n",
    "# wind_tunnel = WindTunnel(\"wind_tunnel\", inlet_geo, outlet_geo, side_geos, top_geo, bottom_geo, test_geos, roughness=0.005)\n",
    "# wind_tunnel.blockMeshDict.n_div_xyz = (int(0.06*wind_tunnel_size[0]), int(0.15*wind_tunnel_size[1]), int(0.15*wind_tunnel_size[2]))\n",
    "\n",
    "\n",
    "# (50, 30, 15)\n",
    "\n",
    "\n"
   ]
  },
  {
   "cell_type": "code",
   "execution_count": 72,
   "metadata": {},
   "outputs": [],
   "source": [
    "blockMeshDict = BlockMeshDict.from_bf_block_geometries(bounding_geometries)"
   ]
  },
  {
   "cell_type": "code",
   "execution_count": 121,
   "metadata": {},
   "outputs": [],
   "source": [
    "# with open(f\"{out_dir}/blockMeshDict\", \"w\") as f:\n",
    "#     f.write(wind_tunnel.blockMeshDict.to_openfoam())\n",
    "case = wind_tunnel.to_openfoam_case()"
   ]
  },
  {
   "cell_type": "code",
   "execution_count": 122,
   "metadata": {},
   "outputs": [],
   "source": [
    "from pathlib import Path\n",
    "for file in case.foam_files:\n",
    "    case_dir = Path(f\"{out_dir}/{file.location.replace('\"', \"\")}\")\n",
    "    case_dir.mkdir(parents=True, exist_ok=True)\n",
    "    with open(f\"{case_dir}/{file.name}\", \"w\") as f:\n",
    "        f.write(str(file))"
   ]
  },
  {
   "cell_type": "code",
   "execution_count": 11,
   "metadata": {},
   "outputs": [],
   "source": [
    "snappyHexMesh = SnappyHexMeshDict({\n",
    "    \"castellatedMesh\": True,\n",
    "    \"snap\": True,\n",
    "    \"addLayers\": False,\n",
    "    \"geometry\": {\n",
    "        \"motorBike\": {\n",
    "            \"type\": \"triSurfaceMesh\",\n",
    "            \"file\": \"motorBike.obj\"\n",
    "        },\n",
    "        \"refinementBox\": {\n",
    "            \"type\": \"searchableBox\",\n",
    "            \"min\": (-1.0, -0.7, 0.0),\n",
    "            \"max\": (8.0, 0.7, 2.5)\n",
    "        }\n",
    "    },\n",
    "    \"castellatedMeshControls\": {\n",
    "        \"maxLocalCells\": 100000,\n",
    "        \"maxGlobalCells\": 7000000,\n",
    "        \"minRefinementCells\": 10,\n",
    "        \"maxLoadUnbalance\": 0.10,\n",
    "        \"nCellsBetweenLevels\": 3,\n",
    "        \"features\": [],\n",
    "        \"refinementSurfaces\": {\n",
    "            \"motorBike\": {\n",
    "                \"level\": (6, 8)\n",
    "            }\n",
    "        },\n",
    "        \"resolveFeatureAngle\": 60,\n",
    "        \"refinementRegions\": {\n",
    "            \"refinementBox\": {\n",
    "                \"mode\": \"inside\",\n",
    "                \"levels\": [(1E15, 5)]\n",
    "            }\n",
    "        },\n",
    "        \"locationInMesh\": (3, 3, 0.43),\n",
    "        \"allowFreeStandingZoneFaces\": False\n",
    "    },\n",
    "    \"snapControls\": {\n",
    "        \"nSmoothPatch\": 3,\n",
    "        \"tolerance\": 4.0,\n",
    "        \"nSolveIter\": 30,\n",
    "        \"nRelaxIter\": 5\n",
    "    },\n",
    "    \"addLayersControls\": {\n",
    "        \"relativeSizes\": True,\n",
    "        \"layers\": {\n",
    "            \"(lowerWall|motorBike).*\": {\n",
    "                \"nSurfaceLayers\": 1\n",
    "            }\n",
    "        },\n",
    "        \"expansionRatio\": 1.0,\n",
    "        \"finalLayerThickness\": 0.3,\n",
    "        \"minThickness\": 0.1,\n",
    "        \"nGrow\": 0,\n",
    "        \"featureAngle\": 60,\n",
    "        \"nRelaxIter\": 3,\n",
    "        \"nSmoothSurfaceNormals\": 1,\n",
    "        \"nSmoothNormals\": 3,\n",
    "        \"nSmoothThickness\": 2,\n",
    "        \"maxFaceThicknessRatio\": 0.5,\n",
    "        \"maxThicknessToMedialRatio\": 0.3,\n",
    "        \"minMedianAxisAngle\": 90,\n",
    "        \"nBufferCellsNoExtrude\": 0,\n",
    "        \"nLayerIter\": 50\n",
    "    },\n",
    "    \"meshQualityControls\": {\n",
    "        \"maxNonOrtho\": 65,\n",
    "        \"maxBoundarySkewness\": 20,\n",
    "        \"maxInternalSkewness\": 4,\n",
    "        \"maxConcave\": 80,\n",
    "        \"minFlatness\": 0.5,\n",
    "        \"minVol\": 1e-13,\n",
    "        \"minTetQuality\": 1e-30,\n",
    "        \"minArea\": -1,\n",
    "        \"minTwist\": 0.02,\n",
    "        \"minDeterminant\": 0.001,\n",
    "        \"minFaceWeight\": 0.02,\n",
    "        \"minVolRatio\": 0.01,\n",
    "        \"minTriangleTwist\": -1,\n",
    "        \"nSmoothScale\": 4,\n",
    "        \"errorReduction\": 0.75\n",
    "    },\n",
    "    \"mergeTolerance\": 1E-6\n",
    "}\n",
    ")\n",
    "\n"
   ]
  },
  {
   "cell_type": "code",
   "execution_count": 12,
   "metadata": {},
   "outputs": [],
   "source": [
    "out_dir = \"/workspaces/butterfly/examples/out\"\n",
    "with open(f\"{out_dir}/snappyHexMeshDictNew\", \"w\") as f:\n",
    "    f.write(snappyHexMesh.to_openfoam())"
   ]
  },
  {
   "cell_type": "code",
   "execution_count": 7,
   "metadata": {},
   "outputs": [
    {
     "ename": "StopIteration",
     "evalue": "",
     "output_type": "error",
     "traceback": [
      "\u001b[0;31m---------------------------------------------------------------------------\u001b[0m",
      "\u001b[0;31mStopIteration\u001b[0m                             Traceback (most recent call last)",
      "Cell \u001b[0;32mIn[7], line 3\u001b[0m\n\u001b[1;32m      1\u001b[0m \u001b[38;5;28;01mfrom\u001b[39;00m \u001b[38;5;21;01mbutterfly\u001b[39;00m\u001b[38;5;21;01m.\u001b[39;00m\u001b[38;5;21;01msnappyHexMeshDict\u001b[39;00m \u001b[38;5;28;01mimport\u001b[39;00m SnappyHexMeshDict\n\u001b[0;32m----> 3\u001b[0m snappyHex \u001b[38;5;241m=\u001b[39m SnappyHexMeshDict\u001b[38;5;241m.\u001b[39mfrom_file(\u001b[38;5;124m\"\u001b[39m\u001b[38;5;124m/workspaces/butterfly/examples/snappyHexMeshDict\u001b[39m\u001b[38;5;124m\"\u001b[39m)\n",
      "File \u001b[0;32m/workspaces/butterfly/butterfly/snappyHexMeshDict.py:110\u001b[0m, in \u001b[0;36mSnappyHexMeshDict.from_file\u001b[0;34m(cls, filepath)\u001b[0m\n\u001b[1;32m    103\u001b[0m \u001b[38;5;129m@classmethod\u001b[39m\n\u001b[1;32m    104\u001b[0m \u001b[38;5;28;01mdef\u001b[39;00m \u001b[38;5;21mfrom_file\u001b[39m(\u001b[38;5;28mcls\u001b[39m, filepath):\n\u001b[1;32m    105\u001b[0m \u001b[38;5;250m    \u001b[39m\u001b[38;5;124;03m\"\"\"Create a FoamFile from a file.\u001b[39;00m\n\u001b[1;32m    106\u001b[0m \n\u001b[1;32m    107\u001b[0m \u001b[38;5;124;03m    Args:\u001b[39;00m\n\u001b[1;32m    108\u001b[0m \u001b[38;5;124;03m        filepath: Full file path to dictionary.\u001b[39;00m\n\u001b[1;32m    109\u001b[0m \u001b[38;5;124;03m    \"\"\"\u001b[39;00m\n\u001b[0;32m--> 110\u001b[0m     \u001b[38;5;28;01mreturn\u001b[39;00m \u001b[38;5;28mcls\u001b[39m(values\u001b[38;5;241m=\u001b[39mfoam_file_from_file(filepath, \u001b[38;5;28mcls\u001b[39m\u001b[38;5;241m.\u001b[39m\u001b[38;5;18m__name__\u001b[39m))\n",
      "File \u001b[0;32m/workspaces/butterfly/butterfly/foamfile.py:394\u001b[0m, in \u001b[0;36mfoam_file_from_file\u001b[0;34m(filepath, name, header)\u001b[0m\n\u001b[1;32m    390\u001b[0m     p, _name \u001b[38;5;241m=\u001b[39m os\u001b[38;5;241m.\u001b[39mpath\u001b[38;5;241m.\u001b[39msplit(filepath)\n\u001b[1;32m    391\u001b[0m     \u001b[38;5;28;01massert\u001b[39;00m _name\u001b[38;5;241m.\u001b[39mlower() \u001b[38;5;241m==\u001b[39m name\u001b[38;5;241m.\u001b[39mlower(), \\\n\u001b[1;32m    392\u001b[0m         \u001b[38;5;124m'\u001b[39m\u001b[38;5;124mIllegal file input \u001b[39m\u001b[38;5;132;01m{}\u001b[39;00m\u001b[38;5;124m for creating \u001b[39m\u001b[38;5;132;01m{}\u001b[39;00m\u001b[38;5;124m'\u001b[39m\u001b[38;5;241m.\u001b[39mformat(_name, name)\n\u001b[0;32m--> 394\u001b[0m _values \u001b[38;5;241m=\u001b[39m CppDictParser\u001b[38;5;241m.\u001b[39mfrom_file(filepath)\u001b[38;5;241m.\u001b[39mvalues\n\u001b[1;32m    396\u001b[0m \u001b[38;5;28;01mif\u001b[39;00m \u001b[38;5;129;01mnot\u001b[39;00m header \u001b[38;5;129;01mand\u001b[39;00m \u001b[38;5;124m'\u001b[39m\u001b[38;5;124mFoamFile\u001b[39m\u001b[38;5;124m'\u001b[39m \u001b[38;5;129;01min\u001b[39;00m _values:\n\u001b[1;32m    397\u001b[0m     \u001b[38;5;28;01mdel\u001b[39;00m(_values[\u001b[38;5;124m'\u001b[39m\u001b[38;5;124mFoamFile\u001b[39m\u001b[38;5;124m'\u001b[39m])\n",
      "File \u001b[0;32m/workspaces/butterfly/butterfly/parser.py:25\u001b[0m, in \u001b[0;36mCppDictParser.from_file\u001b[0;34m(cls, filepath)\u001b[0m\n\u001b[1;32m     23\u001b[0m \u001b[38;5;250m\u001b[39m\u001b[38;5;124;03m\"\"\"Create a parser from an OpenFOAM file.\"\"\"\u001b[39;00m\n\u001b[1;32m     24\u001b[0m \u001b[38;5;28;01mwith\u001b[39;00m \u001b[38;5;28mopen\u001b[39m(filepath) \u001b[38;5;28;01mas\u001b[39;00m f:\n\u001b[0;32m---> 25\u001b[0m     \u001b[38;5;28;01mreturn\u001b[39;00m \u001b[38;5;28mcls\u001b[39m(\u001b[38;5;124m'\u001b[39m\u001b[38;5;130;01m\\n\u001b[39;00m\u001b[38;5;124m'\u001b[39m\u001b[38;5;241m.\u001b[39mjoin(f\u001b[38;5;241m.\u001b[39mreadlines()))\n",
      "File \u001b[0;32m/workspaces/butterfly/butterfly/parser.py:19\u001b[0m, in \u001b[0;36mCppDictParser.__init__\u001b[0;34m(self, text)\u001b[0m\n\u001b[1;32m     17\u001b[0m _t \u001b[38;5;241m=\u001b[39m \u001b[38;5;28mself\u001b[39m\u001b[38;5;241m.\u001b[39mremove_comments(text)\n\u001b[1;32m     18\u001b[0m _t \u001b[38;5;241m=\u001b[39m \u001b[38;5;124m'\u001b[39m\u001b[38;5;124m'\u001b[39m\u001b[38;5;241m.\u001b[39mjoin(_t\u001b[38;5;241m.\u001b[39mreplace(\u001b[38;5;124m'\u001b[39m\u001b[38;5;130;01m\\r\u001b[39;00m\u001b[38;5;130;01m\\n\u001b[39;00m\u001b[38;5;124m'\u001b[39m, \u001b[38;5;124m'\u001b[39m\u001b[38;5;124m \u001b[39m\u001b[38;5;124m'\u001b[39m)\u001b[38;5;241m.\u001b[39mreplace(\u001b[38;5;124m'\u001b[39m\u001b[38;5;130;01m\\n\u001b[39;00m\u001b[38;5;124m'\u001b[39m, \u001b[38;5;124m'\u001b[39m\u001b[38;5;124m \u001b[39m\u001b[38;5;124m'\u001b[39m))\n\u001b[0;32m---> 19\u001b[0m \u001b[38;5;28mself\u001b[39m\u001b[38;5;241m.\u001b[39m__values \u001b[38;5;241m=\u001b[39m \u001b[38;5;28mself\u001b[39m\u001b[38;5;241m.\u001b[39m_convert_to_dict(\u001b[38;5;28mself\u001b[39m\u001b[38;5;241m.\u001b[39m_parse_nested(_t))\n",
      "File \u001b[0;32m/workspaces/butterfly/butterfly/parser.py:54\u001b[0m, in \u001b[0;36mCppDictParser._convert_to_dict\u001b[0;34m(self, parsed)\u001b[0m\n\u001b[1;32m     51\u001b[0m s \u001b[38;5;241m=\u001b[39m pp\u001b[38;5;241m.\u001b[39msplit(\u001b[38;5;124m'\u001b[39m\u001b[38;5;124m;\u001b[39m\u001b[38;5;124m'\u001b[39m)\n\u001b[1;32m     52\u001b[0m \u001b[38;5;28;01mif\u001b[39;00m \u001b[38;5;129;01mnot\u001b[39;00m pp\u001b[38;5;241m.\u001b[39mendswith(\u001b[38;5;124m'\u001b[39m\u001b[38;5;124m;\u001b[39m\u001b[38;5;124m'\u001b[39m):\n\u001b[1;32m     53\u001b[0m     \u001b[38;5;66;03m# last item is a key and next item is the value\u001b[39;00m\n\u001b[0;32m---> 54\u001b[0m     d[s[\u001b[38;5;241m-\u001b[39m\u001b[38;5;241m1\u001b[39m]\u001b[38;5;241m.\u001b[39mstrip()] \u001b[38;5;241m=\u001b[39m \u001b[38;5;28mself\u001b[39m\u001b[38;5;241m.\u001b[39m_convert_to_dict(\u001b[38;5;28mnext\u001b[39m(itp))\n\u001b[1;32m     55\u001b[0m     s \u001b[38;5;241m=\u001b[39m s[:\u001b[38;5;241m-\u001b[39m\u001b[38;5;241m1\u001b[39m]\n\u001b[1;32m     56\u001b[0m \u001b[38;5;28;01mfor\u001b[39;00m ppp \u001b[38;5;129;01min\u001b[39;00m s:\n",
      "\u001b[0;31mStopIteration\u001b[0m: "
     ]
    }
   ],
   "source": [
    "from butterfly.snappyHexMeshDict import SnappyHexMeshDict\n",
    "\n",
    "snappyHex = SnappyHexMeshDict.from_file(\"/workspaces/butterfly/examples/snappyHexMeshDict\")"
   ]
  }
 ],
 "metadata": {
  "kernelspec": {
   "display_name": "base",
   "language": "python",
   "name": "python3"
  },
  "language_info": {
   "codemirror_mode": {
    "name": "ipython",
    "version": 3
   },
   "file_extension": ".py",
   "mimetype": "text/x-python",
   "name": "python",
   "nbconvert_exporter": "python",
   "pygments_lexer": "ipython3",
   "version": "3.12.2"
  }
 },
 "nbformat": 4,
 "nbformat_minor": 2
}
